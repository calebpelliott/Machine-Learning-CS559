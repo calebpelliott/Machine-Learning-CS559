{
 "cells": [
  {
   "cell_type": "markdown",
   "id": "configured-speed",
   "metadata": {},
   "source": [
    "# <center> Final Project - Handwriting recognition</center>\n",
    "## <center> Due: Dec 16$^{th}$ 11:59 PM</center>\n",
    "\n",
    "Handwriting recognition is a well-studied subject in computer vision and has found wide applications in our daily life (such as USPS mail sorting). In this project, we will explore various machine learning techniques for recognizing handwriting digits. The dataset you will be using is the well-known MINST dataset.\n",
    "(1)\tThe MNIST database of handwritten digits has a training set of 60,000 examples, and a test set of 10,000 examples. (http://yann.lecun.com/exdb/mnist/)\n",
    "Below is an example of some digits from the MNIST dataset.\n",
    " \n",
    "The goal of this project is to build a 10-class classifier to recognize those handwriting digits as accurately as you can.  All the assignments below should use the training data (60K examples) and test data (10 K examples) as given by the dataset.\n",
    "Here are the basic requirements for this project.\n",
    "\n",
    "\n",
    "### Task #1:\n",
    "Build a number of non-deep learning based classifiers using all pixels as features for handwriting recognition. You need to use at least three the following six techniques we have learned from the class to do the work: \n",
    "•\tLogistic Regression\n",
    "•\tSVM\n",
    "•\tDecision tree\n",
    "•\tRandom forest\n",
    "•\tXGBoost\n",
    "•\tNeural Network\n",
    "For each technique, please use your own language to give a general description of the technique, its pros and cons, and why such a technique is suitable for solving the handwriting recognition problem. The goal is to make sure you know why you decide to choose this technique.\n",
    "Please also make a comparison table among the three techniques as well as the method from Task #1 above.\n",
    "\n",
    "\n",
    "### Task #2: \n",
    "\n",
    "In this assignment, we will explore various techniques related to neural network with hidden layers more than 3 or CNN to solve the 10-class classification problem.\n",
    "Since there are many existing implementations to solve the MINST problem, we need to give some twists to this problem to make it worthwhile to do for our final project. (Please refer to the ranking list for MNIST at http://rodrigob.github.io/are_we_there_yet/build/classification_datasets_results.html.)\n",
    "The basic network structure that we are trying to explore is something like the following (i.e., the fully connected deep neural nets). The number of hidden layers and the size of each hidden layer in terms of neurons are left as tuning parameters that you can explore.\n",
    "\n",
    "\n",
    "### Task #3:\n",
    "This assignment reflects the data collection process. Everyone is required to \n",
    "•\tHand write 5 styles of your own digits from 0 to 9 on a paper, and make sure your own handwritings are for sure recognizable by yourself. Please take a picture of each digit you write (so you have total 5 x 10 = 50 images), resize and convert it to the same data input format as the MNIST dataset. In other words, you have 50 new data points with labels.\n",
    "•\tTreat these 50 images as “brand-new” test dataset and run your own ML models from Task #1 - #3 on these 50 images and report the achieved test accuracy. Note, the goal for this exercise is not for achieving “high” accuracy, but to show what potential gaps there may be between existing MNIST dataset and your own test dataset, a scenario you would encounter in real life.\n",
    "\n",
    "\n",
    "### Submission:\n",
    "In your report (not formal) and submission, the following is required for this assignment \n",
    "•\tShow all 50 images you create with the corresponding labels you intend to assign, \n",
    "•\tMake a table to show the test accuracy on these 50 images for each ML model you obtained from Task #1 to #3\n",
    "•\tSubmit in a subfolder with your 50 handwriting dataset in MNIST format. \n",
    " "
   ]
  },
  {
   "cell_type": "markdown",
   "id": "pacific-rwanda",
   "metadata": {},
   "source": [
    "#### Task #1"
   ]
  },
  {
   "cell_type": "code",
   "execution_count": 59,
   "id": "ad59762e-aa08-4bae-8764-052562be68b5",
   "metadata": {},
   "outputs": [
    {
     "name": "stdout",
     "output_type": "stream",
     "text": [
      "Requirement already satisfied: xgboost in c:\\users\\caleb\\anaconda3\\lib\\site-packages (1.5.1)\n",
      "Requirement already satisfied: numpy in c:\\users\\caleb\\anaconda3\\lib\\site-packages (from xgboost) (1.20.1)\n",
      "Requirement already satisfied: scipy in c:\\users\\caleb\\anaconda3\\lib\\site-packages (from xgboost) (1.6.2)\n"
     ]
    }
   ],
   "source": [
    "import sys\n",
    "!{sys.executable} -m pip install xgboost"
   ]
  },
  {
   "cell_type": "code",
   "execution_count": 60,
   "id": "bd3da99e-6ebf-4f8a-9a8e-59253312a615",
   "metadata": {},
   "outputs": [],
   "source": [
    "from tensorflow.keras.datasets import mnist\n",
    "from matplotlib import pyplot as plt\n",
    "import numpy as np\n",
    "from sklearn import linear_model\n",
    "from PIL import Image\n",
    "import xgboost as xgb\n",
    "from xgboost import XGBClassifier\n",
    "from sklearn import svm"
   ]
  },
  {
   "cell_type": "code",
   "execution_count": 61,
   "id": "composed-pierre",
   "metadata": {},
   "outputs": [],
   "source": [
    "# Load data set\n",
    "(trainX, trainy), (testX, testy) = mnist.load_data()\n",
    "\n",
    "nsamples, nx, ny = trainX.shape\n",
    "X_d2_train_dataset = trainX.reshape((nsamples,nx*ny))\n",
    "\n",
    "nsamples, nx, ny = testX.shape\n",
    "X_d2_test_dataset = testX.reshape((nsamples,nx*ny))\n"
   ]
  },
  {
   "cell_type": "code",
   "execution_count": 62,
   "id": "severe-meaning",
   "metadata": {},
   "outputs": [
    {
     "name": "stdout",
     "output_type": "stream",
     "text": [
      "0.9339166666666666\n",
      "0.9255\n"
     ]
    },
    {
     "name": "stderr",
     "output_type": "stream",
     "text": [
      "C:\\Users\\caleb\\anaconda3\\lib\\site-packages\\sklearn\\linear_model\\_logistic.py:763: ConvergenceWarning: lbfgs failed to converge (status=1):\n",
      "STOP: TOTAL NO. of ITERATIONS REACHED LIMIT.\n",
      "\n",
      "Increase the number of iterations (max_iter) or scale the data as shown in:\n",
      "    https://scikit-learn.org/stable/modules/preprocessing.html\n",
      "Please also refer to the documentation for alternative solver options:\n",
      "    https://scikit-learn.org/stable/modules/linear_model.html#logistic-regression\n",
      "  n_iter_i = _check_optimize_result(\n"
     ]
    }
   ],
   "source": [
    "#Logistic Regression\n",
    "lr_model = linear_model.LogisticRegression()\n",
    "lr_model.fit(X_d2_train_dataset, trainy)\n",
    "lr_train_score = lr_model.score(X_d2_train_dataset, trainy)\n",
    "lr_test_score = lr_model.score(X_d2_test_dataset, testy)\n",
    "print(lr_train_score)\n",
    "print(lr_test_score)"
   ]
  },
  {
   "cell_type": "code",
   "execution_count": 63,
   "id": "plain-aaron",
   "metadata": {},
   "outputs": [
    {
     "name": "stdout",
     "output_type": "stream",
     "text": [
      "0.86065\n",
      "0.8545\n"
     ]
    },
    {
     "name": "stderr",
     "output_type": "stream",
     "text": [
      "C:\\Users\\caleb\\anaconda3\\lib\\site-packages\\sklearn\\svm\\_base.py:985: ConvergenceWarning: Liblinear failed to converge, increase the number of iterations.\n",
      "  warnings.warn(\"Liblinear failed to converge, increase \"\n"
     ]
    }
   ],
   "source": [
    "#SVM\n",
    "svm_model = svm.LinearSVC()\n",
    "svm_model.fit(X_d2_train_dataset,trainy)\n",
    "svm_train_score = svm_model.score(X_d2_train_dataset, trainy)\n",
    "svm_test_score = svm_model.score(X_d2_test_dataset, testy)\n",
    "print(svm_train_score)\n",
    "print(svm_test_score)"
   ]
  },
  {
   "cell_type": "code",
   "execution_count": 64,
   "id": "tamil-mixer",
   "metadata": {},
   "outputs": [
    {
     "name": "stderr",
     "output_type": "stream",
     "text": [
      "C:\\Users\\caleb\\anaconda3\\lib\\site-packages\\xgboost\\sklearn.py:1224: UserWarning: The use of label encoder in XGBClassifier is deprecated and will be removed in a future release. To remove this warning, do the following: 1) Pass option use_label_encoder=False when constructing XGBClassifier object; and 2) Encode your labels (y) as integers starting with 0, i.e. 0, 1, 2, ..., [num_class - 1].\n",
      "  warnings.warn(label_encoder_deprecation_msg, UserWarning)\n"
     ]
    },
    {
     "name": "stdout",
     "output_type": "stream",
     "text": [
      "[19:10:27] WARNING: C:/Users/Administrator/workspace/xgboost-win64_release_1.5.1/src/learner.cc:1115: Starting in XGBoost 1.3.0, the default evaluation metric used with the objective 'multi:softprob' was changed from 'merror' to 'mlogloss'. Explicitly set eval_metric if you'd like to restore the old behavior.\n",
      "0.8926333333333333\n",
      "0.8926333333333333\n"
     ]
    }
   ],
   "source": [
    "#XGB\n",
    "xgb = XGBClassifier(objective='multiclass:softmax', \n",
    "\tn_estimators = 325,\n",
    "\tlearning_rate = 0.1,\n",
    "\tmax_depth = 1\n",
    "\t)\n",
    "\n",
    "xgb.fit(X_d2_train_dataset,trainy)\n",
    "predict = xgb.predict(X_d2_train_dataset)\n",
    "xgb_train_score = sum(predict == trainy)/len(trainy)\n",
    "print(xgb_train_score)\n",
    "predict = xgb.predict(X_d2_test_dataset)\n",
    "xgb_test_score = sum(predict == testy)/len(testy)\n",
    "print(xgb_train_score)"
   ]
  },
  {
   "cell_type": "markdown",
   "id": "472cf902-6ec7-4dad-86e5-977fdefe63cc",
   "metadata": {},
   "source": [
    "Logistic Regression is a good choice since it will map data from 0 through 1 and gives statistical likelyhoods.\n",
    "SVM is a reasonble choice, although only the linear variant, since the non-linear models grow exponentially in time with number of samples.\n",
    "XGB has high model capacity and can model complex decisions boundaries."
   ]
  },
  {
   "cell_type": "markdown",
   "id": "c6f0f75d-fcba-4e45-afd1-2db4660dca10",
   "metadata": {},
   "source": [
    "#### Task #2"
   ]
  },
  {
   "cell_type": "code",
   "execution_count": 67,
   "id": "bd6682af-f954-46d4-82a4-8c5f309c2ac4",
   "metadata": {},
   "outputs": [],
   "source": [
    "from matplotlib import pyplot as plt\n",
    "import cv2\n",
    "import os\n",
    "import numpy as np\n",
    "import math\n",
    "import argparse\n",
    "\n",
    "import tensorflow.compat.v1 as tf\n",
    "tf.disable_v2_behavior()\n",
    "import tensorflow_datasets\n",
    "#mnist = tensorflow_datasets.load('mnist')\n",
    "from sklearn import datasets\n",
    "from tensorflow.keras.datasets import mnist\n",
    "from sklearn import preprocessing\n",
    "\n",
    "data = datasets.load_digits()\n",
    "\n",
    "def get_weights(shape):\n",
    "    data = tf.truncated_normal(shape, stddev=0.1)\n",
    "    return tf.Variable(data)\n",
    "\n",
    "def get_biases(shape):\n",
    "    data = tf.constant(0.1, shape=shape)\n",
    "    return tf.Variable(data)\n",
    "\n",
    "def create_layer(shape):\n",
    "    # Get the weights and biases\n",
    "    W = get_weights(shape)\n",
    "    b = get_biases([shape[-1]])\n",
    "\n",
    "    return W, b\n",
    "\n",
    "def convolution_2d(x, W):\n",
    "    return tf.nn.conv2d(x, W, strides=[1, 1, 1, 1],\n",
    "            padding='SAME')\n",
    "\n",
    "def max_pooling(x):\n",
    "    return tf.nn.max_pool(x, ksize=[1, 2, 2, 1],\n",
    "            strides=[1, 2, 2, 1], padding='SAME')\n",
    "\n",
    "def CNN(X_train, Y_train, X_test, Y_test, my_digitsX, my_digitsY):\n",
    "    \n",
    "    # The images are 28x28. Create the input layer\n",
    "    x = tf.placeholder(tf.float32, [None, 784])\n",
    "\n",
    "    # Reshape 'x' into a 4D tensor\n",
    "    x_image = tf.reshape(x, [-1, 28, 28, 1])\n",
    "\n",
    "    # Define the first convolutional layer\n",
    "    W_conv1, b_conv1 = create_layer([5, 5, 1, 32])\n",
    "\n",
    "    # Convolve the image with weight tensor, add the\n",
    "    # bias, and then apply the ReLU function\n",
    "    h_conv1 = tf.nn.relu(convolution_2d(x_image, W_conv1) + b_conv1)\n",
    "\n",
    "    # Apply the max pooling operator\n",
    "    h_pool1 = max_pooling(h_conv1)\n",
    "\n",
    "    # Define the second convolutional layer\n",
    "    W_conv2, b_conv2 = create_layer([5,5,32,64])\n",
    "\n",
    "    # Convolve the output of previous layer with the\n",
    "    # weight tensor, add the bias, and then apply\n",
    "    # the ReLU function\n",
    "    h_conv2 = tf.nn.relu(convolution_2d(h_pool1,W_conv2)+ b_conv2)\n",
    "\n",
    "    # Apply the max pooling operator\n",
    "    h_pool2 = max_pooling(h_conv2)\n",
    "\n",
    "    # Define the fully connected layer\n",
    "    W_fc1, b_fc1 = create_layer([3136, 1024])\n",
    "\n",
    "    # Reshape the output of the previous layer\n",
    "    h_pool2_flat = tf.reshape(h_pool2, [-1, 3136])\n",
    "\n",
    "    # Multiply the output of previous layer by the\n",
    "    # weight tensor, add the bias, and then apply\n",
    "    # the ReLU function * Use \"tf.matmul\" for matrix multiplication\n",
    "    h_fc1 = tf.nn.relu(tf.matmul(h_pool2_flat, W_fc1) + b_fc1)\n",
    "\n",
    "    # Define the dropout layer using a probability placeholder\n",
    "    # for all the neurons\n",
    "    keep_prob = tf.placeholder(tf.float32)\n",
    "    h_fc1_drop = tf.nn.dropout(h_fc1, keep_prob)\n",
    "\n",
    "    # Define the readout layer (output layer)\n",
    "    W_fc2, b_fc2 = create_layer([1024, 10])\n",
    "    y_conv = tf.matmul(h_fc1_drop, W_fc2) + b_fc2\n",
    "\n",
    "    # Define the entropy loss and the optimizer\n",
    "    y_loss = tf.placeholder(tf.float32, [None, 10])\n",
    "    loss = tf.reduce_mean(tf.nn.softmax_cross_entropy_with_logits(logits=y_conv, labels=y_loss))\n",
    "    optimizer = tf.train.AdamOptimizer(1e-4).minimize(loss)\n",
    "\n",
    "    # Define the accuracy computation\n",
    "    predicted = tf.equal(tf.argmax(y_conv, 1), tf.argmax(y_loss, 1))\n",
    "    accuracy = tf.reduce_mean(tf.cast(predicted, tf.float32))\n",
    "\n",
    "    # Create and run a session\n",
    "    sess = tf.InteractiveSession()\n",
    "    init = tf.initialize_all_variables()\n",
    "    sess.run(init)\n",
    "\n",
    "    # Start training\n",
    "    batch_size = 75\n",
    "    num_iterations = math.ceil(X_train.shape[0] / batch_size)\n",
    "    start = 0\n",
    "    end = batch_size\n",
    "    print('\\nTraining the model....')\n",
    "    for i in range(num_iterations):\n",
    "        batch = (X_train[start:end], Y_train[start:end])\n",
    "        start = end\n",
    "        end = min(end + batch_size, X_train.shape[0])\n",
    "\n",
    "        # Print progress\n",
    "        if i % 50 == 0:\n",
    "            cur_accuracy = accuracy.eval(feed_dict = {\n",
    "                    x: batch[0], y_loss: batch[1], keep_prob: 1.0})\n",
    "            print('Iteration', i, ', Accuracy =', cur_accuracy)\n",
    "\n",
    "        # Train on the current batch\n",
    "        optimizer.run(feed_dict = {x: batch[0], y_loss: batch[1], keep_prob: 0.5})\n",
    "\n",
    "    # Compute accuracy using test data\n",
    "    test_accuracy = accuracy.eval(feed_dict = {\n",
    "            x: X_test, y_loss: Y_test,\n",
    "            keep_prob: 1.0})\n",
    "    print('Test accuracy =', test_accuracy)\n",
    "    \n",
    "    # Compute accuracy using test data\n",
    "    digits_accuracy = accuracy.eval(feed_dict = {\n",
    "            x: my_digitsX, y_loss: my_digitsY,\n",
    "            keep_prob: 1.0})\n",
    "    print('Digits accuracy =', digits_accuracy)\n",
    "    \n",
    "    return [test_accuracy,digits_accuracy]\n",
    "    "
   ]
  },
  {
   "cell_type": "code",
   "execution_count": 68,
   "id": "5b9f0119-250f-47d4-ac32-7afb7d14a03b",
   "metadata": {},
   "outputs": [
    {
     "name": "stderr",
     "output_type": "stream",
     "text": [
      "C:\\Users\\caleb\\anaconda3\\lib\\site-packages\\tensorflow\\python\\client\\session.py:1771: UserWarning: An interactive session is already active. This can cause out-of-memory errors in some cases. You must explicitly call `InteractiveSession.close()` to release resources held by the other session(s).\n",
      "  warnings.warn('An interactive session is already active. This can '\n"
     ]
    },
    {
     "name": "stdout",
     "output_type": "stream",
     "text": [
      "\n",
      "Training the model....\n",
      "Iteration 0 , Accuracy = 0.08\n",
      "Iteration 50 , Accuracy = 0.74666667\n",
      "Iteration 100 , Accuracy = 0.88\n",
      "Iteration 150 , Accuracy = 0.84\n",
      "Iteration 200 , Accuracy = 0.93333334\n",
      "Iteration 250 , Accuracy = 0.93333334\n",
      "Iteration 300 , Accuracy = 0.85333335\n",
      "Iteration 350 , Accuracy = 0.94666666\n",
      "Iteration 400 , Accuracy = 0.93333334\n",
      "Iteration 450 , Accuracy = 0.93333334\n",
      "Iteration 500 , Accuracy = 0.92\n",
      "Iteration 550 , Accuracy = 0.85333335\n",
      "Iteration 600 , Accuracy = 0.96\n",
      "Iteration 650 , Accuracy = 0.96\n",
      "Iteration 700 , Accuracy = 1.0\n",
      "Iteration 750 , Accuracy = 0.96\n",
      "Test accuracy = 0.9516\n",
      "Digits accuracy = 0.68\n"
     ]
    }
   ],
   "source": [
    "my_images = []\n",
    "for i in range(10):\n",
    "\tfor n in range(1,6):\n",
    "\t\timg = Image.open(f\"./my_digits/{i}/{i}_{n}.png\").convert('L')\n",
    "\t\tarr = np.array(img.getdata(), dtype=np.uint8)\n",
    "\t\tnew_img = np.zeros(shape=(28,28))\n",
    "\n",
    "\t\tfor p in range(28):\n",
    "\t\t\tslice = arr[p*28 : p*28+28]\n",
    "\t\t\tnew_img[p] = slice\n",
    "\t\tmy_images.append(new_img.flatten())\n",
    "\n",
    "\n",
    "ohe = preprocessing.OneHotEncoder()\n",
    "my_digitsX = np.array(my_images)\n",
    "my_digitsY = np.array([0]*5+[1]*5+[2]*5+[3]*5+[4]*5+[5]*5+[6]*5+[7]*5+[8]*5+[9]*5, dtype=np.uint8)\n",
    "my_digitsY = my_digitsY.reshape(-1,1)\n",
    "ohe.fit(my_digitsY)\n",
    "my_digitsY = ohe.transform(my_digitsY).toarray()\n",
    "my_digitsY = np.array(my_digitsY)\n",
    "\n",
    "\n",
    "(train_X, train_y), (test_X, test_y) = mnist.load_data()\n",
    "\n",
    "train_y = train_y.reshape(-1, 1)\n",
    "test_y = test_y.reshape(-1, 1)\n",
    "\n",
    "ohe.fit(train_y)\n",
    "train_y = ohe.transform(train_y).toarray()\n",
    "train_y = np.array(train_y)\n",
    "\n",
    "ohe.fit(test_y)\n",
    "test_y = ohe.transform(test_y).toarray()\n",
    "test_y = np.array(test_y)\n",
    "\n",
    "newX = []\n",
    "for i in train_X:\n",
    "    newX.append(i.flatten())\n",
    "\n",
    "newX_test = []\n",
    "for i in test_X:\n",
    "    newX_test.append(i.flatten())\n",
    "\n",
    "newX_test = np.array(newX_test)\n",
    "newX = np.array(newX)\n",
    "\n",
    "[test_score, digit_score] = CNN(newX, train_y, newX_test, test_y, my_digitsX, my_digitsY)"
   ]
  },
  {
   "cell_type": "markdown",
   "id": "threatened-rubber",
   "metadata": {},
   "source": [
    "#### Task #3"
   ]
  },
  {
   "cell_type": "code",
   "execution_count": 69,
   "id": "c8eb4d0c-6ae0-4276-b51a-a43fcd696c0a",
   "metadata": {},
   "outputs": [
    {
     "name": "stdout",
     "output_type": "stream",
     "text": [
      "0\n"
     ]
    },
    {
     "data": {
      "image/png": "[encoded data removed]",
      "text/plain": [
       "<PIL.Image.Image image mode=L size=28x28 at 0x1E60EB2A9D0>"
      ]
     },
     "metadata": {},
     "output_type": "display_data"
    },
    {
     "data": {
      "image/png": "[encoded data removed]",
      "text/plain": [
       "<PIL.Image.Image image mode=L size=28x28 at 0x1E60EEE01F0>"
      ]
     },
     "metadata": {},
     "output_type": "display_data"
    },
    {
     "data": {
      "image/png": "[encoded data removed]",
      "text/plain": [
       "<PIL.Image.Image image mode=L size=28x28 at 0x1E60EB2ADF0>"
      ]
     },
     "metadata": {},
     "output_type": "display_data"
    },
    {
     "data": {
      "image/png": "[encoded data removed]",
      "text/plain": [
       "<PIL.Image.Image image mode=L size=28x28 at 0x1E60EB25C70>"
      ]
     },
     "metadata": {},
     "output_type": "display_data"
    },
    {
     "data": {
      "image/png": "[encoded data removed]",
      "text/plain": [
       "<PIL.Image.Image image mode=L size=28x28 at 0x1E6093A7850>"
      ]
     },
     "metadata": {},
     "output_type": "display_data"
    },
    {
     "name": "stdout",
     "output_type": "stream",
     "text": [
      "1\n"
     ]
    },
    {
     "data": {
      "image/png": "[encoded data removed]",
      "text/plain": [
       "<PIL.Image.Image image mode=L size=28x28 at 0x1E60EB25C70>"
      ]
     },
     "metadata": {},
     "output_type": "display_data"
    },
    {
     "data": {
      "image/png": "[encoded data removed]",
      "text/plain": [
       "<PIL.Image.Image image mode=L size=28x28 at 0x1E6093A7400>"
      ]
     },
     "metadata": {},
     "output_type": "display_data"
    },
    {
     "data": {
      "image/png": "[encoded data removed]",
      "text/plain": [
       "<PIL.Image.Image image mode=L size=28x28 at 0x1E60EEE01F0>"
      ]
     },
     "metadata": {},
     "output_type": "display_data"
    },
    {
     "data": {
      "image/png": "[encoded data removed]",
      "text/plain": [
       "<PIL.Image.Image image mode=L size=28x28 at 0x1E60EB2AA30>"
      ]
     },
     "metadata": {},
     "output_type": "display_data"
    },
    {
     "data": {
      "image/png": "[encoded data removed]",
      "text/plain": [
       "<PIL.Image.Image image mode=L size=28x28 at 0x1E6093A9040>"
      ]
     },
     "metadata": {},
     "output_type": "display_data"
    },
    {
     "name": "stdout",
     "output_type": "stream",
     "text": [
      "2\n"
     ]
    },
    {
     "data": {
      "image/png": "[encoded data removed]",
      "text/plain": [
       "<PIL.Image.Image image mode=L size=28x28 at 0x1E6071C3EB0>"
      ]
     },
     "metadata": {},
     "output_type": "display_data"
    },
    {
     "data": {
      "image/png": "[encoded data removed]",
      "text/plain": [
       "<PIL.Image.Image image mode=L size=28x28 at 0x1E6093A71F0>"
      ]
     },
     "metadata": {},
     "output_type": "display_data"
    },
    {
     "data": {
      "image/png": "[encoded data removed]",
      "text/plain": [
       "<PIL.Image.Image image mode=L size=28x28 at 0x1E6093A7850>"
      ]
     },
     "metadata": {},
     "output_type": "display_data"
    },
    {
     "data": {
      "image/png": "[encoded data removed]",
      "text/plain": [
       "<PIL.Image.Image image mode=L size=28x28 at 0x1E6093A7400>"
      ]
     },
     "metadata": {},
     "output_type": "display_data"
    },
    {
     "data": {
      "image/png": "[encoded data removed]",
      "text/plain": [
       "<PIL.Image.Image image mode=L size=28x28 at 0x1E6093A7850>"
      ]
     },
     "metadata": {},
     "output_type": "display_data"
    },
    {
     "name": "stdout",
     "output_type": "stream",
     "text": [
      "3\n"
     ]
    },
    {
     "data": {
      "image/png": "[encoded data removed]",
      "text/plain": [
       "<PIL.Image.Image image mode=L size=28x28 at 0x1E6071C3EB0>"
      ]
     },
     "metadata": {},
     "output_type": "display_data"
    },
    {
     "data": {
      "image/png": "[encoded data removed]",
      "text/plain": [
       "<PIL.Image.Image image mode=L size=28x28 at 0x1E6093A7850>"
      ]
     },
     "metadata": {},
     "output_type": "display_data"
    },
    {
     "data": {
      "image/png": "[encoded data removed]",
      "text/plain": [
       "<PIL.Image.Image image mode=L size=28x28 at 0x1E6071C3EB0>"
      ]
     },
     "metadata": {},
     "output_type": "display_data"
    },
    {
     "data": {
      "image/png": "[encoded data removed]",
      "text/plain": [
       "<PIL.Image.Image image mode=L size=28x28 at 0x1E60EB2AA30>"
      ]
     },
     "metadata": {},
     "output_type": "display_data"
    },
    {
     "data": {
      "image/png": "[encoded data removed]",
      "text/plain": [
       "<PIL.Image.Image image mode=L size=28x28 at 0x1E60EEE01F0>"
      ]
     },
     "metadata": {},
     "output_type": "display_data"
    },
    {
     "name": "stdout",
     "output_type": "stream",
     "text": [
      "4\n"
     ]
    },
    {
     "data": {
      "image/png": "[encoded data removed]",
      "text/plain": [
       "<PIL.Image.Image image mode=L size=28x28 at 0x1E6093A9040>"
      ]
     },
     "metadata": {},
     "output_type": "display_data"
    },
    {
     "data": {
      "image/png": "[encoded data removed]",
      "text/plain": [
       "<PIL.Image.Image image mode=L size=28x28 at 0x1E60EB2AA30>"
      ]
     },
     "metadata": {},
     "output_type": "display_data"
    },
    {
     "data": {
      "image/png": "[encoded data removed]",
      "text/plain": [
       "<PIL.Image.Image image mode=L size=28x28 at 0x1E60EB2A9D0>"
      ]
     },
     "metadata": {},
     "output_type": "display_data"
    },
    {
     "data": {
      "image/png": "[encoded data removed]",
      "text/plain": [
       "<PIL.Image.Image image mode=L size=28x28 at 0x1E6071C3EB0>"
      ]
     },
     "metadata": {},
     "output_type": "display_data"
    },
    {
     "data": {
      "image/png": "[encoded data removed]",
      "text/plain": [
       "<PIL.Image.Image image mode=L size=28x28 at 0x1E60EB2A9D0>"
      ]
     },
     "metadata": {},
     "output_type": "display_data"
    },
    {
     "name": "stdout",
     "output_type": "stream",
     "text": [
      "5\n"
     ]
    },
    {
     "data": {
      "image/png": "[encoded data removed]",
      "text/plain": [
       "<PIL.Image.Image image mode=L size=28x28 at 0x1E60EB2AA30>"
      ]
     },
     "metadata": {},
     "output_type": "display_data"
    },
    {
     "data": {
      "image/png": "[encoded data removed]",
      "text/plain": [
       "<PIL.Image.Image image mode=L size=28x28 at 0x1E60EEE01F0>"
      ]
     },
     "metadata": {},
     "output_type": "display_data"
    },
    {
     "data": {
      "image/png": "[encoded data removed]",
      "text/plain": [
       "<PIL.Image.Image image mode=L size=28x28 at 0x1E60EB2AA30>"
      ]
     },
     "metadata": {},
     "output_type": "display_data"
    },
    {
     "data": {
      "image/png": "[encoded data removed]",
      "text/plain": [
       "<PIL.Image.Image image mode=L size=28x28 at 0x1E60EB2A9D0>"
      ]
     },
     "metadata": {},
     "output_type": "display_data"
    },
    {
     "data": {
      "image/png": "[encoded data removed]",
      "text/plain": [
       "<PIL.Image.Image image mode=L size=28x28 at 0x1E6071C3EB0>"
      ]
     },
     "metadata": {},
     "output_type": "display_data"
    },
    {
     "name": "stdout",
     "output_type": "stream",
     "text": [
      "6\n"
     ]
    },
    {
     "data": {
      "image/png": "[encoded data removed]",
      "text/plain": [
       "<PIL.Image.Image image mode=L size=28x28 at 0x1E60EB2AA30>"
      ]
     },
     "metadata": {},
     "output_type": "display_data"
    },
    {
     "data": {
      "image/png": "[encoded data removed]",
      "text/plain": [
       "<PIL.Image.Image image mode=L size=28x28 at 0x1E60EB2A9D0>"
      ]
     },
     "metadata": {},
     "output_type": "display_data"
    },
    {
     "data": {
      "image/png": "[encoded data removed]",
      "text/plain": [
       "<PIL.Image.Image image mode=L size=28x28 at 0x1E60EEE01F0>"
      ]
     },
     "metadata": {},
     "output_type": "display_data"
    },
    {
     "data": {
      "image/png": "[encoded data removed]",
      "text/plain": [
       "<PIL.Image.Image image mode=L size=28x28 at 0x1E60EB2A9D0>"
      ]
     },
     "metadata": {},
     "output_type": "display_data"
    },
    {
     "data": {
      "image/png": "[encoded data removed]",
      "text/plain": [
       "<PIL.Image.Image image mode=L size=28x28 at 0x1E60EB25C70>"
      ]
     },
     "metadata": {},
     "output_type": "display_data"
    },
    {
     "name": "stdout",
     "output_type": "stream",
     "text": [
      "7\n"
     ]
    },
    {
     "data": {
      "image/png": "[encoded data removed]",
      "text/plain": [
       "<PIL.Image.Image image mode=L size=28x28 at 0x1E60EEE01F0>"
      ]
     },
     "metadata": {},
     "output_type": "display_data"
    },
    {
     "data": {
      "image/png": "[encoded data removed]",
      "text/plain": [
       "<PIL.Image.Image image mode=L size=28x28 at 0x1E60EB2AA30>"
      ]
     },
     "metadata": {},
     "output_type": "display_data"
    },
    {
     "data": {
      "image/png": "[encoded data removed]",
      "text/plain": [
       "<PIL.Image.Image image mode=L size=28x28 at 0x1E6071C3EB0>"
      ]
     },
     "metadata": {},
     "output_type": "display_data"
    },
    {
     "data": {
      "image/png": "[encoded data removed]",
      "text/plain": [
       "<PIL.Image.Image image mode=L size=28x28 at 0x1E6093A7400>"
      ]
     },
     "metadata": {},
     "output_type": "display_data"
    },
    {
     "data": {
      "image/png": "[encoded data removed]",
      "text/plain": [
       "<PIL.Image.Image image mode=L size=28x28 at 0x1E60EB2A9D0>"
      ]
     },
     "metadata": {},
     "output_type": "display_data"
    },
    {
     "name": "stdout",
     "output_type": "stream",
     "text": [
      "8\n"
     ]
    },
    {
     "data": {
      "image/png": "[encoded data removed]",
      "text/plain": [
       "<PIL.Image.Image image mode=L size=28x28 at 0x1E60EEE01F0>"
      ]
     },
     "metadata": {},
     "output_type": "display_data"
    },
    {
     "data": {
      "image/png": "[encoded data removed]",
      "text/plain": [
       "<PIL.Image.Image image mode=L size=28x28 at 0x1E6071C3EB0>"
      ]
     },
     "metadata": {},
     "output_type": "display_data"
    },
    {
     "data": {
      "image/png": "[encoded data removed]",
      "text/plain": [
       "<PIL.Image.Image image mode=L size=28x28 at 0x1E6093A7850>"
      ]
     },
     "metadata": {},
     "output_type": "display_data"
    },
    {
     "data": {
      "image/png": "[encoded data removed]",
      "text/plain": [
       "<PIL.Image.Image image mode=L size=28x28 at 0x1E6093A7400>"
      ]
     },
     "metadata": {},
     "output_type": "display_data"
    },
    {
     "data": {
      "image/png": "[encoded data removed]",
      "text/plain": [
       "<PIL.Image.Image image mode=L size=28x28 at 0x1E6093A7850>"
      ]
     },
     "metadata": {},
     "output_type": "display_data"
    },
    {
     "name": "stdout",
     "output_type": "stream",
     "text": [
      "9\n"
     ]
    },
    {
     "data": {
      "image/png": "[encoded data removed]",
      "text/plain": [
       "<PIL.Image.Image image mode=L size=28x28 at 0x1E6093A7880>"
      ]
     },
     "metadata": {},
     "output_type": "display_data"
    },
    {
     "data": {
      "image/png": "[encoded data removed]",
      "text/plain": [
       "<PIL.Image.Image image mode=L size=28x28 at 0x1E60EB25C70>"
      ]
     },
     "metadata": {},
     "output_type": "display_data"
    },
    {
     "data": {
      "image/png": "[encoded data removed]",
      "text/plain": [
       "<PIL.Image.Image image mode=L size=28x28 at 0x1E6093A9040>"
      ]
     },
     "metadata": {},
     "output_type": "display_data"
    },
    {
     "data": {
      "image/png": "[encoded data removed]",
      "text/plain": [
       "<PIL.Image.Image image mode=L size=28x28 at 0x1E60EB2A9D0>"
      ]
     },
     "metadata": {},
     "output_type": "display_data"
    },
    {
     "data": {
      "image/png": "[encoded data removed]",
      "text/plain": [
       "<PIL.Image.Image image mode=L size=28x28 at 0x1E60EEE01F0>"
      ]
     },
     "metadata": {},
     "output_type": "display_data"
    }
   ],
   "source": [
    "#Load my_digits\n",
    "rootdir = \"./my_digits\"\n",
    "my_images = []\n",
    "for i in range(10):\n",
    "    print(i)\n",
    "    for n in range(1,6):\n",
    "        img = Image.open(f\"{rootdir}/{i}/{i}_{n}.png\").convert('L')\n",
    "        display(img)\n",
    "        arr = np.array(img.getdata(), dtype=np.uint8)\n",
    "        new_img = np.zeros(shape=(28,28))\n",
    "\n",
    "        for p in range(28):\n",
    "            slice = arr[p*28 : p*28+28]\n",
    "            new_img[p] = slice\n",
    "        my_images.append(new_img)\n",
    "\n",
    "\n",
    "my_digitsX = np.array(my_images)\n",
    "my_digitsX_cnn = np.array(my_digitsX, np.float32)/255.0\n",
    "my_digitsY = np.array([0]*5+[1]*5+[2]*5+[3]*5+[4]*5+[5]*5+[6]*5+[7]*5+[8]*5+[9]*5, dtype=np.uint8)\n",
    "\n",
    "nsamples, nx, ny = my_digitsX.shape\n",
    "X_d2_digits_dataset = my_digitsX.reshape((nsamples,nx*ny))\n"
   ]
  },
  {
   "cell_type": "code",
   "execution_count": 70,
   "id": "6cf7e6f6-a024-40f4-9adc-80196f03d2b2",
   "metadata": {},
   "outputs": [
    {
     "name": "stdout",
     "output_type": "stream",
     "text": [
      "LR score: 0.46\n",
      "SVM score: 0.4\n",
      "XGB score: 0.58\n",
      "CNN score: 0.6800000071525574\n"
     ]
    }
   ],
   "source": [
    "lr_digits_score = lr_model.score(X_d2_digits_dataset, my_digitsY)\n",
    "svm_digits_score = svm_model.score(X_d2_digits_dataset, my_digitsY)\n",
    "\n",
    "predict = xgb.predict(X_d2_digits_dataset)\n",
    "xgb_train_score = sum(predict == my_digitsY)/len(my_digitsY)\n",
    "\n",
    "print(f\"LR score: {lr_digits_score}\")\n",
    "print(f\"SVM score: {svm_digits_score}\")\n",
    "print(f\"XGB score: {xgb_train_score}\")\n",
    "print(f\"CNN score: {digit_score}\")"
   ]
  },
  {
   "cell_type": "markdown",
   "id": "d9887b6a-5b0f-45e4-beeb-fa4fd995e973",
   "metadata": {},
   "source": [
    "#### Results"
   ]
  },
  {
   "cell_type": "code",
   "execution_count": 72,
   "id": "ce2e1829-9901-45d5-84c4-316e2ddae2c5",
   "metadata": {},
   "outputs": [
    {
     "data": {
      "text/html": [
       "<div>\n",
       "<style scoped>\n",
       "    .dataframe tbody tr th:only-of-type {\n",
       "        vertical-align: middle;\n",
       "    }\n",
       "\n",
       "    .dataframe tbody tr th {\n",
       "        vertical-align: top;\n",
       "    }\n",
       "\n",
       "    .dataframe thead th {\n",
       "        text-align: right;\n",
       "    }\n",
       "</style>\n",
       "<table border=\"1\" class=\"dataframe\">\n",
       "  <thead>\n",
       "    <tr style=\"text-align: right;\">\n",
       "      <th></th>\n",
       "      <th>Model</th>\n",
       "      <th>Accuracy</th>\n",
       "    </tr>\n",
       "  </thead>\n",
       "  <tbody>\n",
       "    <tr>\n",
       "      <th>0</th>\n",
       "      <td>Logistic Regression</td>\n",
       "      <td>0.46</td>\n",
       "    </tr>\n",
       "    <tr>\n",
       "      <th>1</th>\n",
       "      <td>SVM</td>\n",
       "      <td>0.40</td>\n",
       "    </tr>\n",
       "    <tr>\n",
       "      <th>2</th>\n",
       "      <td>XGB</td>\n",
       "      <td>0.58</td>\n",
       "    </tr>\n",
       "    <tr>\n",
       "      <th>3</th>\n",
       "      <td>CNN</td>\n",
       "      <td>0.68</td>\n",
       "    </tr>\n",
       "  </tbody>\n",
       "</table>\n",
       "</div>"
      ],
      "text/plain": [
       "                 Model  Accuracy\n",
       "0  Logistic Regression      0.46\n",
       "1                  SVM      0.40\n",
       "2                  XGB      0.58\n",
       "3                  CNN      0.68"
      ]
     },
     "execution_count": 72,
     "metadata": {},
     "output_type": "execute_result"
    }
   ],
   "source": [
    "import pandas as pd\n",
    "result_table = pd.DataFrame({'Model':['Logistic Regression','SVM','XGB','CNN'],\n",
    "                             'Accuracy':[lr_digits_score,svm_digits_score,xgb_train_score,digit_score]})\n",
    "result_table"
   ]
  },
  {
   "cell_type": "code",
   "execution_count": null,
   "id": "aa2b520d-4d01-4de8-ba81-41d954dc6960",
   "metadata": {},
   "outputs": [],
   "source": []
  }
 ],
 "metadata": {
  "kernelspec": {
   "display_name": "Python 3",
   "language": "python",
   "name": "python3"
  },
  "language_info": {
   "codemirror_mode": {
    "name": "ipython",
    "version": 3
   },
   "file_extension": ".py",
   "mimetype": "text/x-python",
   "name": "python",
   "nbconvert_exporter": "python",
   "pygments_lexer": "ipython3",
   "version": "3.8.8"
  }
 },
 "nbformat": 4,
 "nbformat_minor": 5
}
