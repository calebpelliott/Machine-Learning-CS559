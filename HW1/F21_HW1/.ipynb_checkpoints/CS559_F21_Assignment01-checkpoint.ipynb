{
 "cells": [
  {
   "cell_type": "markdown",
   "metadata": {},
   "source": [
    "# <center> Fall 2021 CS559: Homework #1 </center>"
   ]
  },
  {
   "cell_type": "markdown",
   "metadata": {},
   "source": [
    "### <center> Due: **9/23/2021 Thursday 11:59 PM** </center>\n",
    "\n",
    "\n",
    "\n",
    "- Before you start, rename the file as *LastNameFirstName*_F21_CS559_HW1 (e.g., JangInsuk_F21_CS559_HW1). \n",
    "- Submit the assignment both in format of *ipynb* and *html*. \n",
    "    - Export the file as *HTML* as `File`>`Download as`>`HTML`. \n",
    "    - Do not need to print results of middle-process work. Only the final answers must be printed while all lines must be excuted. \n",
    "    - Clean up unnecessary lines and codes with errors. \n",
    "    - Use *Markdown* to explain answers and results. \n",
    "    - **Do not need to compress** the files. You can submit files individually.\n",
    "    - Only one time submission is allowd \n",
    "- This assignment focuses on topics of linear algebra, probability theory, and EDA. \n",
    "    - For linear algebra questions, when the question says \"implement\", you are not allowed to use any built-in functions from `NumPy` or similar libraries that do the job. (e.g., if the question is to implement dot prodcut function, do not use `numpy.dot`). \n",
    "- This assignment should an individual work. Do not collaborate with classmates or get help from 3rd person. You may surf internet if you need to. Then site the reference. "
   ]
  },
  {
   "cell_type": "markdown",
   "metadata": {},
   "source": [
    "### Problem 1 [20 pts]\n",
    "This problem task to implement functions of matrix operations - multiplication and tranpose. Please do not use numpy matrix packages in implementations.  \n",
    "\n",
    "1-a: Implement a function `mat_product` to calculate the matrix product of two n by n arrays. [8 pts] \n",
    "$$C_{ij}=\\sum_{i,j,k=1}^nA_{ik}B_{kj}$$"
   ]
  },
  {
   "cell_type": "code",
   "execution_count": 10,
   "metadata": {},
   "outputs": [],
   "source": [
    "import numpy as np"
   ]
  },
  {
   "cell_type": "code",
   "execution_count": 11,
   "metadata": {},
   "outputs": [],
   "source": [
    "### Code Starts Here\n",
    "def mat_product(A,B):\n",
    "    shape = A.shape\n",
    "    N = np.zeros(shape, dtype=int)\n",
    "    for i in range(shape[0]):\n",
    "        for j in range(shape[0]):\n",
    "            row = X[i]\n",
    "            column = Y[:, j]\n",
    "            for k in range(row.size):\n",
    "                N[i][j] += row[k] * column[k]\n",
    "    return N"
   ]
  },
  {
   "cell_type": "markdown",
   "metadata": {},
   "source": [
    "1-b Generate two random 3 by 3 matrices, ${\\bf X}$ and ${\\bf Y}$, whose elements are from 0 to 10. Print the result. [2 pts]"
   ]
  },
  {
   "cell_type": "code",
   "execution_count": 12,
   "metadata": {},
   "outputs": [],
   "source": [
    "### Test Starts Here\n",
    "np.random.seed(123)\n",
    "X=np.random.randint(0,10,size=(3,3))\n",
    "Y=np.random.randint(0,10,size=(3,3))"
   ]
  },
  {
   "cell_type": "code",
   "execution_count": 13,
   "metadata": {},
   "outputs": [
    {
     "name": "stdout",
     "output_type": "stream",
     "text": [
      "[[26 36  6]\n",
      " [37 36  9]\n",
      " [ 6 63  3]]\n"
     ]
    }
   ],
   "source": [
    "print(mat_product(X,Y))"
   ]
  },
  {
   "cell_type": "markdown",
   "metadata": {},
   "source": [
    "1-c Inplement a function `mat_transpose()` that transposes ${\\bf X}$ and use the `mat_product` function to find the matrice of product: $Z={\\bf X}^T\\cdot{\\bf Y}$. Compare the result with using `np.matmul()`. [10 pts]\n"
   ]
  },
  {
   "cell_type": "code",
   "execution_count": 14,
   "metadata": {},
   "outputs": [],
   "source": [
    "### Code Starts Here\n",
    "def mat_transpose(X):\n",
    "    shape = X.shape\n",
    "    N = np.zeros(shape, dtype=int)\n",
    "    \n",
    "    for i in range(shape[0]):\n",
    "        for j in range(shape[0]):\n",
    "            N[j][i] = X[i][j]\n",
    "            \n",
    "    return N\n",
    "    "
   ]
  },
  {
   "cell_type": "code",
   "execution_count": 15,
   "metadata": {},
   "outputs": [
    {
     "name": "stdout",
     "output_type": "stream",
     "text": [
      "[[26 36  6]\n",
      " [37 36  9]\n",
      " [ 6 63  3]]\n"
     ]
    }
   ],
   "source": [
    "Z=mat_product(mat_transpose(X),Y)\n",
    "print(Z)"
   ]
  },
  {
   "cell_type": "code",
   "execution_count": 88,
   "metadata": {},
   "outputs": [
    {
     "name": "stdout",
     "output_type": "stream",
     "text": [
      "[[ 26  27   3]\n",
      " [  6  45   9]\n",
      " [  6 135  27]]\n"
     ]
    }
   ],
   "source": [
    "### Code np.matmul() starts here\n",
    "Z=np.matmul(mat_transpose(X),Y)\n",
    "print(Z)"
   ]
  },
  {
   "cell_type": "markdown",
   "metadata": {},
   "source": [
    "### Problem 2 [20 pts]\n",
    "2-a: Create a simulatior `coin_prob(pi,n,k)` for $n$ fair coins (whose probability is $\\pi=0.5$) flipping $N$ times with the number of trials increase by the intervals of 50, $t=50,100,150,200,\\cdots,10000$, having $k$ number of heads. [10 pts]\n",
    "\n",
    "   - Use the sample data to compute the maximum likelihood estiamte probabilty $s$, `np.random.binomial()`, of $\\pi$.\n",
    "   - Have the simulator return the result of $t$ and $s$ as a data frame \"ProbTable\". \n",
    "   "
   ]
  },
  {
   "cell_type": "code",
   "execution_count": 97,
   "metadata": {},
   "outputs": [],
   "source": [
    "### Code Starts Here\n",
    "import pandas as pd\n",
    "    \n",
    "def coin_prob(pi,n,k):\n",
    "    \"\"\"\n",
    "    Simulator to calculate a probability of n coins \n",
    "    flipping N times with t trials having k number of heads: head (=1)\n",
    "    \"\"\"\n",
    "    ProbTable=pd.DataFrame()\n",
    "    t = list(range(50, 10050, 50))\n",
    "    s = []\n",
    "    for trials in t:\n",
    "        prob = sum(np.random.binomial(n,pi,trials) == k) / trials\n",
    "        s.append(prob)\n",
    "    ProbTable.s = s\n",
    "    ProbTable.t = t\n",
    "\n",
    "    return(ProbTable)"
   ]
  },
  {
   "cell_type": "markdown",
   "metadata": {},
   "source": [
    "2-b: Test the simulator when $n=1$ and $k=1$. Plot the estimates of $\\pi$ as a function of sample size. Indicate the expected probability using a horizontal line. [5 pts]"
   ]
  },
  {
   "cell_type": "code",
   "execution_count": 98,
   "metadata": {},
   "outputs": [
    {
     "name": "stderr",
     "output_type": "stream",
     "text": [
      "<ipython-input-97-43efa956d3ed>:15: UserWarning: Pandas doesn't allow columns to be created via a new attribute name - see https://pandas.pydata.org/pandas-docs/stable/indexing.html#attribute-access\n",
      "  ProbTable.s = s\n",
      "<ipython-input-97-43efa956d3ed>:16: UserWarning: Pandas doesn't allow columns to be created via a new attribute name - see https://pandas.pydata.org/pandas-docs/stable/indexing.html#attribute-access\n",
      "  ProbTable.t = t\n"
     ]
    }
   ],
   "source": [
    "one_coin=coin_prob(pi=.5,n=1,k=1)"
   ]
  },
  {
   "cell_type": "code",
   "execution_count": 99,
   "metadata": {},
   "outputs": [
    {
     "data": {
      "image/png": "[encoded data removed]",
      "text/plain": [
       "<Figure size 432x288 with 1 Axes>"
      ]
     },
     "metadata": {
      "needs_background": "light"
     },
     "output_type": "display_data"
    }
   ],
   "source": [
    "### Code Starts Here\n",
    "import matplotlib.pyplot as plt\n",
    "\n",
    "plt.plot(one_coin.t, one_coin.s, 'g-')\n",
    "plt.axhline(y=sum(one_coin.s) / len(one_coin.s), color='r', linestyle='--')\n",
    "plt.xlabel('Trials')\n",
    "plt.ylabel('Probability')\n",
    "plt.title('Probability vs. Trials')\n",
    "plt.show()"
   ]
  },
  {
   "cell_type": "markdown",
   "metadata": {},
   "source": [
    "2-c: Calculate the probability of having **1 head ($k=1$)** when 3 coins are flipped. Report the expected value.  [5 pts]"
   ]
  },
  {
   "cell_type": "code",
   "execution_count": 100,
   "metadata": {},
   "outputs": [
    {
     "name": "stdout",
     "output_type": "stream",
     "text": [
      "0.375\n"
     ]
    }
   ],
   "source": [
    "### Code starts here\n",
    "# odds = HTT + HTH + TTH\n",
    "p = 3*pow(.5,3)\n",
    "print(p)"
   ]
  },
  {
   "cell_type": "markdown",
   "metadata": {},
   "source": [
    "2-d: Evaluate your answer in 3-c using the simulator. Show a plot that supports your evaluation. [3 pts]"
   ]
  },
  {
   "cell_type": "code",
   "execution_count": 101,
   "metadata": {},
   "outputs": [
    {
     "name": "stderr",
     "output_type": "stream",
     "text": [
      "<ipython-input-97-43efa956d3ed>:15: UserWarning: Pandas doesn't allow columns to be created via a new attribute name - see https://pandas.pydata.org/pandas-docs/stable/indexing.html#attribute-access\n",
      "  ProbTable.s = s\n",
      "<ipython-input-97-43efa956d3ed>:16: UserWarning: Pandas doesn't allow columns to be created via a new attribute name - see https://pandas.pydata.org/pandas-docs/stable/indexing.html#attribute-access\n",
      "  ProbTable.t = t\n"
     ]
    }
   ],
   "source": [
    "three_coins=coin_prob(pi=.5,n=3,k=1)"
   ]
  },
  {
   "cell_type": "code",
   "execution_count": 102,
   "metadata": {},
   "outputs": [
    {
     "data": {
      "image/png": "[encoded data removed]",
      "text/plain": [
       "<Figure size 432x288 with 1 Axes>"
      ]
     },
     "metadata": {
      "needs_background": "light"
     },
     "output_type": "display_data"
    }
   ],
   "source": [
    "\"\"\"Plot shows here\"\"\"\n",
    "plt.plot(three_coins.t, three_coins.s, 'g-')\n",
    "plt.axhline(y=sum(three_coins.s) / len(three_coins.s), color='r', linestyle='--')\n",
    "plt.xlabel('Trials')\n",
    "plt.ylabel('Probability')\n",
    "plt.title('Probability vs. Trials')\n",
    "plt.show()"
   ]
  },
  {
   "cell_type": "markdown",
   "metadata": {},
   "source": [
    "### Problem 3 [20 pts]\n",
    "\n",
    "Load the Gross Domestic Product data for the 190 ranked countries in the file **GDP.csv**. Load **Country.csv** into a DataFrame. "
   ]
  },
  {
   "cell_type": "code",
   "execution_count": 80,
   "metadata": {},
   "outputs": [],
   "source": [
    "gdp = pd.read_csv('GDP.csv', skiprows=range(5), header= None, usecols=[0,1,3,4], nrows=190,encoding='ISO-8859-1')\n",
    "gdp.columns = ['CountryCode', 'Rank', 'CountryName', 'GDP']\n",
    "Country = pd.read_csv('Country.csv',encoding='ISO-8859-1')"
   ]
  },
  {
   "cell_type": "markdown",
   "metadata": {},
   "source": [
    "3-a: Match the `CountryCode` and merge two data frames. Call the new data frame as `Country_GDP`. How many of the IDs match?\n",
    "Use the link for hints: https://pandas.pydata.org/pandas-docs/stable/user_guide/merging.html [5 pts]"
   ]
  },
  {
   "cell_type": "code",
   "execution_count": 81,
   "metadata": {},
   "outputs": [],
   "source": [
    "### Code Starts Here\n",
    "Country_GDP= pd.merge(gdp, Country, on=\"CountryCode\")\n"
   ]
  },
  {
   "cell_type": "code",
   "execution_count": 82,
   "metadata": {},
   "outputs": [
    {
     "name": "stdout",
     "output_type": "stream",
     "text": [
      "189\n"
     ]
    }
   ],
   "source": [
    "### Print the number of IDs\n",
    "print(len(Country_GDP.CountryCode))\n"
   ]
  },
  {
   "cell_type": "markdown",
   "metadata": {},
   "source": [
    "3-b: Use visualization to determine the number of countries by `Region`. Which region has the largest number of countries? [5 pts]"
   ]
  },
  {
   "cell_type": "code",
   "execution_count": 83,
   "metadata": {},
   "outputs": [
    {
     "data": {
      "text/plain": [
       "<AxesSubplot:>"
      ]
     },
     "execution_count": 83,
     "metadata": {},
     "output_type": "execute_result"
    },
    {
     "data": {
      "image/png": "[encoded data removed]",
      "text/plain": [
       "<Figure size 432x288 with 1 Axes>"
      ]
     },
     "metadata": {
      "needs_background": "light"
     },
     "output_type": "display_data"
    }
   ],
   "source": [
    "### Code Starts Here\n",
    "Country_GDP['Region'].value_counts().plot(kind='bar')"
   ]
  },
  {
   "cell_type": "markdown",
   "metadata": {},
   "source": [
    "3-c: Test how GDPs are alike between regions using two-sample **Kolmogorov-Smirnov** test `ks_2samp()`. Make a data table show $KS-test$ and $p-$ values. Evalueate the result. Expian which regions have similar distributions. [5 pts]"
   ]
  },
  {
   "cell_type": "code",
   "execution_count": 84,
   "metadata": {},
   "outputs": [
    {
     "name": "stdout",
     "output_type": "stream",
     "text": [
      "                                 North America East Asia & Pacific  \\\n",
      "Regions (stat, p)                                                    \n",
      "North America               (0.00000, 1.00000)  (0.59770, 0.19032)   \n",
      "East Asia & Pacific         (0.59770, 0.19032)  (0.00000, 1.00000)   \n",
      "Europe & Central Asia       (0.56667, 0.22479)  (0.37931, 0.00676)   \n",
      "Latin America & Caribbean   (0.63810, 0.12423)  (0.21379, 0.39641)   \n",
      "South Asia                  (0.54167, 0.42424)  (0.34483, 0.35818)   \n",
      "Middle East & North Africa  (0.66667, 0.14436)  (0.49617, 0.00479)   \n",
      "Sub-Saharan Africa          (0.66667, 0.09195)  (0.37031, 0.01056)   \n",
      "\n",
      "                           Europe & Central Asia Latin America & Caribbean  \\\n",
      "Regions (stat, p)                                                            \n",
      "North America                 (0.56667, 0.22479)        (0.63810, 0.12423)   \n",
      "East Asia & Pacific           (0.37931, 0.00676)        (0.21379, 0.39641)   \n",
      "Europe & Central Asia         (0.00000, 1.00000)        (0.30571, 0.03328)   \n",
      "Latin America & Caribbean     (0.30571, 0.03328)        (0.00000, 1.00000)   \n",
      "South Asia                    (0.26000, 0.64691)        (0.21429, 0.86594)   \n",
      "Middle East & North Africa    (0.24444, 0.34496)        (0.51587, 0.00232)   \n",
      "Sub-Saharan Africa            (0.57304, 0.00000)        (0.32547, 0.02187)   \n",
      "\n",
      "                                    South Asia Middle East & North Africa  \\\n",
      "Regions (stat, p)                                                           \n",
      "North America               (0.54167, 0.42424)         (0.66667, 0.14436)   \n",
      "East Asia & Pacific         (0.34483, 0.35818)         (0.49617, 0.00479)   \n",
      "Europe & Central Asia       (0.26000, 0.64691)         (0.24444, 0.34496)   \n",
      "Latin America & Caribbean   (0.21429, 0.86594)         (0.51587, 0.00232)   \n",
      "South Asia                  (0.00000, 1.00000)         (0.44444, 0.17106)   \n",
      "Middle East & North Africa  (0.44444, 0.17106)         (0.00000, 1.00000)   \n",
      "Sub-Saharan Africa          (0.48913, 0.05122)         (0.79227, 0.00000)   \n",
      "\n",
      "                            Sub-Saharan Africa  \n",
      "Regions (stat, p)                               \n",
      "North America               (0.66667, 0.09195)  \n",
      "East Asia & Pacific         (0.37031, 0.01056)  \n",
      "Europe & Central Asia       (0.57304, 0.00000)  \n",
      "Latin America & Caribbean   (0.32547, 0.02187)  \n",
      "South Asia                  (0.48913, 0.05122)  \n",
      "Middle East & North Africa  (0.79227, 0.00000)  \n",
      "Sub-Saharan Africa          (0.00000, 1.00000)  \n",
      "\n",
      "Similarties between: Latin America and South Asia\n"
     ]
    }
   ],
   "source": [
    "### Code Starts Here\n",
    "from scipy.stats import ks_2samp\n",
    "\n",
    "#Need to convert GDP column to int64\n",
    "#Remove commas\n",
    "Country_GDP.GDP = Country_GDP.GDP.apply(lambda x : x.replace(',',''))\n",
    "Country_GDP = Country_GDP.astype({\"GDP\":np.int64})\n",
    "\n",
    "Region = Country_GDP.groupby('Region')\n",
    "\n",
    "unqLst = Country_GDP[\"Region\"].unique().tolist()\n",
    "base = []\n",
    "for i in unqLst:\n",
    "    new = []\n",
    "    for j in unqLst:\n",
    "        r1 = Region.get_group(i)\n",
    "        r2 = Region.get_group(j)\n",
    "        p = ks_2samp(r1[\"GDP\"],r2[\"GDP\"])\n",
    "        result = '(%0.5f' % p[0]\n",
    "        result += ', %0.5f)' % p[1]\n",
    "        new.append(result)\n",
    "    base.append(new)\n",
    "    \n",
    "df = pd.DataFrame(base,\n",
    "                  index=pd.Index( unqLst, name='Regions (stat, p)'),\n",
    "                  columns=pd.Index(unqLst))\n",
    "print(df)\n",
    "print()\n",
    "print(\"Similarties between: Latin America and South Asia\")"
   ]
  },
  {
   "cell_type": "markdown",
   "metadata": {},
   "source": [
    "3-d: Use `groupby()` and `agg()` to find the average and standard deviation of GDP by `income group`. [5 pts]"
   ]
  },
  {
   "cell_type": "code",
   "execution_count": 85,
   "metadata": {},
   "outputs": [
    {
     "data": {
      "text/html": [
       "<div>\n",
       "<style scoped>\n",
       "    .dataframe tbody tr th:only-of-type {\n",
       "        vertical-align: middle;\n",
       "    }\n",
       "\n",
       "    .dataframe tbody tr th {\n",
       "        vertical-align: top;\n",
       "    }\n",
       "\n",
       "    .dataframe thead tr th {\n",
       "        text-align: left;\n",
       "    }\n",
       "\n",
       "    .dataframe thead tr:last-of-type th {\n",
       "        text-align: right;\n",
       "    }\n",
       "</style>\n",
       "<table border=\"1\" class=\"dataframe\">\n",
       "  <thead>\n",
       "    <tr>\n",
       "      <th></th>\n",
       "      <th colspan=\"2\" halign=\"left\">GDP</th>\n",
       "    </tr>\n",
       "    <tr>\n",
       "      <th></th>\n",
       "      <th>std</th>\n",
       "      <th>mean</th>\n",
       "    </tr>\n",
       "    <tr>\n",
       "      <th>Region</th>\n",
       "      <th></th>\n",
       "      <th></th>\n",
       "    </tr>\n",
       "  </thead>\n",
       "  <tbody>\n",
       "    <tr>\n",
       "      <th>East Asia &amp; Pacific</th>\n",
       "      <td>1.840061e+06</td>\n",
       "      <td>6.768344e+05</td>\n",
       "    </tr>\n",
       "    <tr>\n",
       "      <th>Europe &amp; Central Asia</th>\n",
       "      <td>7.654745e+05</td>\n",
       "      <td>4.272701e+05</td>\n",
       "    </tr>\n",
       "    <tr>\n",
       "      <th>Latin America &amp; Caribbean</th>\n",
       "      <td>4.256162e+05</td>\n",
       "      <td>1.658813e+05</td>\n",
       "    </tr>\n",
       "    <tr>\n",
       "      <th>Middle East &amp; North Africa</th>\n",
       "      <td>1.877766e+05</td>\n",
       "      <td>1.819929e+05</td>\n",
       "    </tr>\n",
       "    <tr>\n",
       "      <th>North America</th>\n",
       "      <td>8.897892e+06</td>\n",
       "      <td>6.023833e+06</td>\n",
       "    </tr>\n",
       "    <tr>\n",
       "      <th>South Asia</th>\n",
       "      <td>6.332642e+05</td>\n",
       "      <td>2.857616e+05</td>\n",
       "    </tr>\n",
       "    <tr>\n",
       "      <th>Sub-Saharan Africa</th>\n",
       "      <td>6.774010e+04</td>\n",
       "      <td>2.853759e+04</td>\n",
       "    </tr>\n",
       "  </tbody>\n",
       "</table>\n",
       "</div>"
      ],
      "text/plain": [
       "                                     GDP              \n",
       "                                     std          mean\n",
       "Region                                                \n",
       "East Asia & Pacific         1.840061e+06  6.768344e+05\n",
       "Europe & Central Asia       7.654745e+05  4.272701e+05\n",
       "Latin America & Caribbean   4.256162e+05  1.658813e+05\n",
       "Middle East & North Africa  1.877766e+05  1.819929e+05\n",
       "North America               8.897892e+06  6.023833e+06\n",
       "South Asia                  6.332642e+05  2.857616e+05\n",
       "Sub-Saharan Africa          6.774010e+04  2.853759e+04"
      ]
     },
     "execution_count": 85,
     "metadata": {},
     "output_type": "execute_result"
    }
   ],
   "source": [
    "### Code Starts Here\n",
    "Country_GDP.groupby([\"Region\"]).agg({\"GDP\" : {'mean', np.std}})"
   ]
  },
  {
   "cell_type": "markdown",
   "metadata": {},
   "source": [
    "### Problem 4 - Clustering Using KMeans [20 pts]\n",
    "\n",
    "The tasks in this problem are:\n",
    "- impletemenation of KMeans\n",
    "- confirmation of pre-determined K value\n",
    "\n",
    "Here, we have a given data set `HW1_Q1_0.csv` containing coordinates of x and y. \n",
    "\n",
    "4-a. Load the data and add feature name as X and Y for the first and second columns, respectively. (2 pts)"
   ]
  },
  {
   "cell_type": "code",
   "execution_count": null,
   "metadata": {},
   "outputs": [],
   "source": [
    "import pandas as pd"
   ]
  },
  {
   "cell_type": "code",
   "execution_count": null,
   "metadata": {},
   "outputs": [],
   "source": [
    "### Code starts here"
   ]
  },
  {
   "cell_type": "markdown",
   "metadata": {},
   "source": [
    "4-b. Using `KMeans` from `sklearn.cluster`, determine the appropriate $K$ value for `HW2_Q1_0.csv` and report it. Explain why your pre-determined $K$ value is appropriate. The function `plot_inertia` is provided to you. (4 pts)"
   ]
  },
  {
   "cell_type": "code",
   "execution_count": null,
   "metadata": {},
   "outputs": [],
   "source": [
    "from sklearn.cluster import KMeans\n",
    "kmeans = KMeans()\n",
    "\n",
    "def plot_inertia(km, X, n_cluster_range):\n",
    "    inertias = []\n",
    "    for i in n_cluster_range:\n",
    "        km.set_params(n_clusters=i)\n",
    "        km.fit(X)\n",
    "        inertias.append(km.inertia_)\n",
    "    plt.plot(n_cluster_range, inertias, marker='o')\n",
    "    plt.title('Elbow method')\n",
    "    plt.xlabel('Number of clusters')\n",
    "    plt.ylabel('Inertia')\n",
    "    plt.show()\n",
    "    \n",
    "    tabular_result = pd.DataFrame(inertias, \n",
    "                                  index = [\"n = {}\".format(i) for i in range(1, len(inertias)+1)], \n",
    "                                  columns=['Inertia'])\n",
    "    \n",
    "    return tabular_result"
   ]
  },
  {
   "cell_type": "code",
   "execution_count": null,
   "metadata": {},
   "outputs": [],
   "source": [
    "### Code starts here"
   ]
  },
  {
   "cell_type": "markdown",
   "metadata": {},
   "source": [
    "4-c. Make a scatter plot of y vs. x. Do you think your pre-determined $K$ value is acceptable. Explain why. If you do not think your pre-determined $K$ value is not correct, explain what a new pre-determined $K$ value must be. (4 pts) "
   ]
  },
  {
   "cell_type": "code",
   "execution_count": null,
   "metadata": {},
   "outputs": [],
   "source": [
    "### Code starts here"
   ]
  },
  {
   "cell_type": "markdown",
   "metadata": {},
   "source": [
    "4-d. Impletement `MY_KMean` that does the KMeans clustering. When you do the implementation, you may use linear algebra built-in functions from `Numpy`. Do not use `KMeans` directly. (10 pts)"
   ]
  },
  {
   "cell_type": "code",
   "execution_count": null,
   "metadata": {},
   "outputs": [],
   "source": [
    "### Code starts here"
   ]
  },
  {
   "cell_type": "markdown",
   "metadata": {},
   "source": [
    "### Problem 5 - Principal Component Analysis [20 pts]\n",
    "\n",
    "5-a. Run the following codes. "
   ]
  },
  {
   "cell_type": "code",
   "execution_count": null,
   "metadata": {},
   "outputs": [],
   "source": [
    "import numpy as np\n",
    "\n",
    "np.random.seed(2342)\n",
    "mu_vec1 = np.array([0,0,0])\n",
    "cov_mat1 = np.array([[1,0,0],[0,1,0],[0,0,1]])\n",
    "class1_sample = np.random.multivariate_normal(mu_vec1, cov_mat1, 30).T\n",
    "assert class1_sample.shape == (3,30), \"The matrix has not the dimensions 3x30\"\n",
    "\n",
    "mu_vec2 = np.array([1,1,1])\n",
    "cov_mat2 = np.array([[1,0,0],[0,1,0],[0,0,1]])\n",
    "class2_sample = np.random.multivariate_normal(mu_vec2, cov_mat2, 30).T\n",
    "assert class2_sample.shape == (3,30), \"The matrix has not the dimensions 3x30\""
   ]
  },
  {
   "cell_type": "code",
   "execution_count": null,
   "metadata": {},
   "outputs": [],
   "source": [
    "from matplotlib import pyplot as plt\n",
    "from mpl_toolkits.mplot3d import Axes3D\n",
    "from mpl_toolkits.mplot3d import proj3d\n",
    "\n",
    "fig = plt.figure(figsize=(8,8))\n",
    "ax = fig.add_subplot(111, projection='3d')\n",
    "plt.rcParams['legend.fontsize'] = 10   \n",
    "ax.plot(class1_sample[0,:], class1_sample[1,:], class1_sample[2,:], 'o', markersize=8, color='blue', alpha=0.5, label='class1')\n",
    "ax.plot(class2_sample[0,:], class2_sample[1,:], class2_sample[2,:], '^', markersize=8, alpha=0.5, color='red', label='class2')\n",
    "\n",
    "plt.title('Samples for class 1 and class 2')\n",
    "ax.legend(loc='upper right')\n",
    "\n",
    "plt.show()"
   ]
  },
  {
   "cell_type": "markdown",
   "metadata": {},
   "source": [
    "5-b. PCA Implementation. Here, the descriiption of each step and part of codes. You have to fill out the rest process. [15 pts]\n",
    "\n",
    "1. Take the dataset w/o classes. \n",
    "2. Compute the d-dimentional mean vector.\n",
    "3. Compute the scatter matrix as following. \n",
    "    \n",
    "$$\\textbf{S}=\\sum_{k=1}^N (\\textbf{x}_k-\\bar{\\textbf{x}})(\\textbf{x}_k-\\bar{\\textbf{x}})^T$$ \n",
    "where $\\bar{\\textbf{x}}$ is the mean vector. Then compute the covariance matrix using `np.cov()` function.\n",
    "    \n",
    "4. Compute eigenvectors and corresponding eigenvalues using np.linalg.eig(). \n",
    "5. Check the eigenvector and eigenvalue calculation. This code is provided as well as the visualization of eigenvectors. \n",
    "6. Sort the eigenvectors by descreasing eigenvalues. The idea is that since the eigenvectors will form the axes of new feature subspace, we want to drop for eigenvectors with the lowest eigenvalues that bear the least information about the distribution of the data. \n",
    "7. Choose $k$ eigenvectors with the largest eigenvalues. We are going to reduce a 3-D feature space to a 2-D feature subspace. To do so, we combine the two eigenvectors with the highest eigenvalues to construct our $d\\times k$-D eigenvector matrix $\\bf{W}$.\n",
    "8. Transform the samples onto the new subspace. The new subspace equation is \n",
    "\n",
    "$${\\bf y}={\\bf W}^T\\times {\\bf x}$$"
   ]
  },
  {
   "cell_type": "code",
   "execution_count": null,
   "metadata": {},
   "outputs": [],
   "source": [
    "### Code starts here"
   ]
  },
  {
   "cell_type": "markdown",
   "metadata": {},
   "source": [
    "5-c. Using `PCA` from sklearn, make a visualization comparison with the result in 3-b and evaluation your impletemented PCA. [5 pts]"
   ]
  },
  {
   "cell_type": "code",
   "execution_count": null,
   "metadata": {},
   "outputs": [],
   "source": [
    "from sklearn.decomposition import PCA"
   ]
  },
  {
   "cell_type": "code",
   "execution_count": null,
   "metadata": {},
   "outputs": [],
   "source": [
    "### Code starts here"
   ]
  }
 ],
 "metadata": {
  "kernelspec": {
   "display_name": "Python 3",
   "language": "python",
   "name": "python3"
  },
  "language_info": {
   "codemirror_mode": {
    "name": "ipython",
    "version": 3
   },
   "file_extension": ".py",
   "mimetype": "text/x-python",
   "name": "python",
   "nbconvert_exporter": "python",
   "pygments_lexer": "ipython3",
   "version": "3.8.8"
  }
 },
 "nbformat": 4,
 "nbformat_minor": 4
}
