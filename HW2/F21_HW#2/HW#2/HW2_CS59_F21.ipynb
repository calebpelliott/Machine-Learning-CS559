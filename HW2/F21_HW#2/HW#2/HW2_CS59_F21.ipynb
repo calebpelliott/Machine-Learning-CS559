{
 "cells": [
  {
   "cell_type": "markdown",
   "id": "incorrect-ocean",
   "metadata": {},
   "source": [
    "# <center> CS559: Homework #2 </center>\n",
    "###  <center> Due:10/8/2021 Friday 11:59 PM</center>\n",
    "\n",
    "- Change the file name as YourName_F21_CS559_HW2\n",
    "- Submit the assignment in `ipynb` and `html` formats. \n",
    "    - You can export the notebook in HTML. \n",
    "    - Do not compress your files. Please submit files individually. \n",
    "- All work must be your own and must not be shared with other classmates. \n",
    "    - Collaboration with classmates or getting help by any people is not acceptable. \n",
    "    - For impletementation problems, do not copy algorithms from internet. "
   ]
  },
  {
   "cell_type": "markdown",
   "id": "technological-publication",
   "metadata": {},
   "source": [
    "### Problem 1 - Linear Regression [35 pts]\n",
    "\n",
    "1-a. Consider a data set in which each data point $t_n$ is associated with a weighting factor $r_n>0$, so that the sum of squares error function becomes \n",
    "\n",
    "$${\\large E_D(\\vec{w})=\\frac{1}{2}\\sum_{n=1}^Nr_n\\big(t_n-\\vec{w}^T\\vec{x}_n\\big)^2}$$\n",
    "\n",
    "Find an expression for the solution $w^*$ that minimizes this error function. [5 pts]"
   ]
  },
  {
   "cell_type": "markdown",
   "id": "interior-finger",
   "metadata": {},
   "source": [
    "1-b. Implement a function called, `my_error(data,r_n)`, that estimates the error using the error function, $E_D(\\vec{w})$, from 1-a. The task to implement a function to estimates the optimized $vec{w}$ and demonstrates the behavior of error at different weighting factor, $r_n$, values. The function return a list of $\\vec{w}$, $r_n$, and error. Do not use any other modules except `numpy`. [10 pts]"
   ]
  },
  {
   "cell_type": "code",
   "execution_count": null,
   "id": "asian-north",
   "metadata": {},
   "outputs": [],
   "source": [
    "### my_LR starts here\n",
    "def my_LR(data,r_n):\n",
    "    for r in r_n:\n",
    "        w = \n",
    "        error = \n",
    "    \n",
    "    return w, error, r_n"
   ]
  },
  {
   "cell_type": "markdown",
   "id": "banner-arena",
   "metadata": {},
   "source": [
    "1-c. Load the dataset, make a model using Linear Regression from sklearn.linear_model to predict the target `y` from a given dataset `HW2_LR.csv`. Students must do EDA and pre-processing the dataset before training the model. All pre-processing and EDA work must be explained and the weights and mean squared error value must be reported. Treat the whole dataset as a train set. [15 pts]"
   ]
  },
  {
   "cell_type": "code",
   "execution_count": null,
   "id": "silent-story",
   "metadata": {},
   "outputs": [],
   "source": [
    "from sklearn.linear_model import LinearRegression\n",
    "from sklearn.metrics import mean_squared_error\n",
    "import matplotlib.pyplot as plt\n",
    "\n",
    "import pandas as pd"
   ]
  },
  {
   "cell_type": "code",
   "execution_count": null,
   "id": "stunning-verification",
   "metadata": {},
   "outputs": [],
   "source": [
    "data = pd.read_csv('./HW2_LR.csv')"
   ]
  },
  {
   "cell_type": "code",
   "execution_count": null,
   "id": "modified-venue",
   "metadata": {},
   "outputs": [],
   "source": [
    "### EDA stars here"
   ]
  },
  {
   "cell_type": "code",
   "execution_count": null,
   "id": "french-adoption",
   "metadata": {},
   "outputs": [],
   "source": [
    "### Pre-processing starts here"
   ]
  },
  {
   "cell_type": "code",
   "execution_count": null,
   "id": "sustainable-sessions",
   "metadata": {},
   "outputs": [],
   "source": [
    "### Linear Regression Modeling starts here\n",
    "LR = LinearRegression()"
   ]
  },
  {
   "cell_type": "markdown",
   "id": "moderate-beaver",
   "metadata": {},
   "source": [
    "1-d. Use the function `my_error()` from 1-b to estimate $\\vec{w}$ and make a visualization to show the behavior of error in terms of $r_n$. Add a point to indicate the final training model error obtained from 1-c. [5 pts]"
   ]
  },
  {
   "cell_type": "code",
   "execution_count": null,
   "id": "apparent-connectivity",
   "metadata": {},
   "outputs": [],
   "source": [
    "### Visualization starts from here. "
   ]
  },
  {
   "cell_type": "markdown",
   "id": "timely-cassette",
   "metadata": {},
   "source": [
    "### Problem 2 - Linear Classification 1 [65 pts]\n",
    "\n",
    "In this assignment, you are going to implement three classifiers - **LDA, Perceptron, and Logistic Regression** - to predict the risk of heart attack using the provided dataset, `heart.csv`. \n",
    "\n",
    "Here are data attributes:\n",
    "- Age : Age of the patient\n",
    "- Sex : Sex of the patient\n",
    "- exang: exercise induced angina (1 = yes; 0 = no)\n",
    "- ca: number of major vessels (0-3)\n",
    "- cp : Chest Pain type chest pain type\n",
    "    - Value 1: typical angina\n",
    "    - Value 2: atypical angina\n",
    "    - Value 3: non-anginal pain\n",
    "    - Value 4: asymptomatic\n",
    "- trtbps : resting blood pressure (in mm Hg)\n",
    "- chol : cholestoral in mg/dl fetched via BMI sensor\n",
    "- fbs : (fasting blood sugar > 120 mg/dl) (1 = true; 0 = false)\n",
    "- restecg : resting electrocardiographic results\n",
    "    - Value 0: normal\n",
    "    - Value 1: having ST-T wave abnormality (T wave inversions and/or ST elevation or depression of > 0.05 mV)\n",
    "    - Value 2: showing probable or definite left ventricular hypertrophy by Estes' criteria\n",
    "- thalach : maximum heart rate achieved\n",
    "- output : 0= less chance of heart attack 1= more chance of heart attack"
   ]
  },
  {
   "cell_type": "markdown",
   "id": "terminal-appraisal",
   "metadata": {},
   "source": [
    "2-a. Implement `my_LDA` that classifies the target. Use `accuracy_score` from `sklearn.metrics` to calculate the accuracy. [10 pts]"
   ]
  },
  {
   "cell_type": "code",
   "execution_count": null,
   "id": "behind-vision",
   "metadata": {},
   "outputs": [],
   "source": [
    "from sklearn.metrics import accuracy_score"
   ]
  },
  {
   "cell_type": "code",
   "execution_count": null,
   "id": "fiscal-citizenship",
   "metadata": {},
   "outputs": [],
   "source": [
    "### my_LDA starts here"
   ]
  },
  {
   "cell_type": "markdown",
   "id": "tracked-transcription",
   "metadata": {},
   "source": [
    "2-b. Implement `my_Perceptron` that classifies the target. Use `accuracy_score` from `sklearn.metrics` to calculate the accuracy. [10 pts]"
   ]
  },
  {
   "cell_type": "code",
   "execution_count": null,
   "id": "underlying-surprise",
   "metadata": {},
   "outputs": [],
   "source": [
    "### my_Perceptron starts here"
   ]
  },
  {
   "cell_type": "markdown",
   "id": "described-corrections",
   "metadata": {},
   "source": [
    "2-c. Implement `my_LogisticRegression` that classifies the target. Use `accuracy_score` from `sklearn.metrics` to calculate the accuracy. [10 pts]"
   ]
  },
  {
   "cell_type": "code",
   "execution_count": null,
   "id": "liquid-genetics",
   "metadata": {},
   "outputs": [],
   "source": [
    "### my_LogisticRegression starts here"
   ]
  },
  {
   "cell_type": "markdown",
   "id": "documentary-moses",
   "metadata": {},
   "source": [
    "2-d. The EDA and pre-processing are not limitted however, you must\n",
    "1. check if the data is **balanced** or not. \n",
    "2. check if features are **skewed** or not.\n",
    "3. check outliers. \n",
    "\n",
    "For any finds from 1 to 3, please handle the data carefully. Exaplin your workflow and perform accordingly. If any interesting facts are learned, please state them. [15 pts]"
   ]
  },
  {
   "cell_type": "code",
   "execution_count": null,
   "id": "bizarre-release",
   "metadata": {},
   "outputs": [],
   "source": [
    "### EDA stars here"
   ]
  },
  {
   "cell_type": "code",
   "execution_count": null,
   "id": "binding-heating",
   "metadata": {},
   "outputs": [],
   "source": [
    "### Pre-processing starts here"
   ]
  },
  {
   "cell_type": "markdown",
   "id": "alone-hormone",
   "metadata": {},
   "source": [
    "2-e. Use ML LDA, Perceptron, and LogisticRegression from sklearn to classify the trained data and report the accuracy. [10 pts]"
   ]
  },
  {
   "cell_type": "code",
   "execution_count": null,
   "id": "after-spare",
   "metadata": {},
   "outputs": [],
   "source": [
    "from sklearn.linear_model import LogisticRegression\n",
    "from sklearn.discriminant_analysis import LinearDiscriminantAnalysis\n",
    "from sklearn.linear_model import Perceptron"
   ]
  },
  {
   "cell_type": "code",
   "execution_count": null,
   "id": "eleven-acrylic",
   "metadata": {},
   "outputs": [],
   "source": [
    "### LDA starts here\n",
    "clf1= LinearDiscriminantAnalysis()\n",
    "\n",
    "clf1_accuracy = accuracy_score(y,y_pred)"
   ]
  },
  {
   "cell_type": "code",
   "execution_count": null,
   "id": "german-hawaii",
   "metadata": {},
   "outputs": [],
   "source": [
    "### Perceptron starts here\n",
    "clf2 = Perceptron()\n",
    "\n",
    "clf2_accuracy = accuracy_score(y,y_pred)"
   ]
  },
  {
   "cell_type": "code",
   "execution_count": null,
   "id": "compatible-edgar",
   "metadata": {},
   "outputs": [],
   "source": [
    "### Logistic Regression starts here\n",
    "clf3 = LogisticRegression()\n",
    "\n",
    "clf3_accuracy = accuracy_score(y,y_pred)"
   ]
  },
  {
   "cell_type": "markdown",
   "id": "preliminary-enterprise",
   "metadata": {},
   "source": [
    "2-f. Use the implemented classifiers from 2-a to 2-c and classify the output. [10 pts] "
   ]
  },
  {
   "cell_type": "code",
   "execution_count": null,
   "id": "breathing-relationship",
   "metadata": {},
   "outputs": [],
   "source": [
    "clf4= my_LDA()\n",
    "\n",
    "clf4_accuracy = accuracy_score(y,y_pred)"
   ]
  },
  {
   "cell_type": "code",
   "execution_count": null,
   "id": "nominated-reason",
   "metadata": {},
   "outputs": [],
   "source": [
    "clf5= my_LDA()\n",
    "\n",
    "clf5_accuracy = accuracy_score(y,y_pred)"
   ]
  },
  {
   "cell_type": "code",
   "execution_count": null,
   "id": "contrary-freight",
   "metadata": {},
   "outputs": [],
   "source": [
    "clf6= my_LDA()\n",
    "\n",
    "clf6_accuracy = accuracy_score(y,y_pred)"
   ]
  },
  {
   "cell_type": "code",
   "execution_count": null,
   "id": "rural-record",
   "metadata": {},
   "outputs": [],
   "source": [
    "result_table = pd.DataFrame({'Model',['clf1','clf2','clf3','clf4','clf5','clf6'],\n",
    "                             'Accuracy':[clf1_accuracy,clf2_accuracy,clf3_accuracy,\n",
    "                                        clf4_accuracy,clf5_accuracy,clf6_accuracy]})\n",
    "result_table"
   ]
  }
 ],
 "metadata": {
  "kernelspec": {
   "display_name": "Python 3",
   "language": "python",
   "name": "python3"
  },
  "language_info": {
   "codemirror_mode": {
    "name": "ipython",
    "version": 3
   },
   "file_extension": ".py",
   "mimetype": "text/x-python",
   "name": "python",
   "nbconvert_exporter": "python",
   "pygments_lexer": "ipython3",
   "version": "3.8.3"
  }
 },
 "nbformat": 4,
 "nbformat_minor": 5
}
