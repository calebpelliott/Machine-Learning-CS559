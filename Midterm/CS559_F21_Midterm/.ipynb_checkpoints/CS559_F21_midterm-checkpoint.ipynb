{
 "cells": [
  {
   "cell_type": "markdown",
   "id": "dated-minimum",
   "metadata": {},
   "source": [
    "**<center>CS559 Fall 2021 Midterm</center>**\n",
    "**<center>Due: in 90 minutes <center>**\n",
    "\n",
    "The second part of the midterm contains the computations to solve machine learning problems. It is an open-notes exam and students can only use lecture notes and demonstration files provided from the class. \n",
    "Students are not allowed to use any other modules than $\\color{red}{\\textbf{Numpy, Pandas, and Matplot}}$. \n",
    "\n",
    "Although there are no plotting questions, students are welcome to display plots to confirm their answers. \n",
    "\n",
    "Students must submit the exam **90 minutes from the start**. \n",
    "\n",
    "Good luck!"
   ]
  },
  {
   "cell_type": "code",
   "execution_count": null,
   "id": "sunrise-bosnia",
   "metadata": {},
   "outputs": [],
   "source": [
    "import numpy as np\n",
    "import pandas as pd\n",
    "import matplotlib.pyplot as plt"
   ]
  },
  {
   "cell_type": "markdown",
   "id": "hydraulic-match",
   "metadata": {},
   "source": [
    "## Question 1 [20 pts]\n",
    "\n",
    "This question is a gradient descent problem and students are required to find a weight vector of the actual quadratic function of the provided data, `gradient_question.csv`. The dataset has two columns, x and y, where y is the true target variable. "
   ]
  },
  {
   "cell_type": "markdown",
   "id": "separated-shoot",
   "metadata": {},
   "source": [
    "### 1-1.\n",
    "Write a short function called `my_gradient()` that optimizes the weight vector using the squared error function and returns the weight vector when the acceptance of error is below 0.05 and the learning rate $\\eta$ is 0.001. [12 pts] "
   ]
  },
  {
   "cell_type": "code",
   "execution_count": null,
   "id": "stuck-transformation",
   "metadata": {},
   "outputs": [],
   "source": [
    "def my_gradient():\n",
    "    \n",
    "    return w"
   ]
  },
  {
   "cell_type": "markdown",
   "id": "portuguese-jamaica",
   "metadata": {},
   "source": [
    "### 1-2.\n",
    "\n",
    "Using the optimized weight vector, find the local maximum. [8 pts]"
   ]
  },
  {
   "cell_type": "code",
   "execution_count": null,
   "id": "disciplinary-amsterdam",
   "metadata": {},
   "outputs": [],
   "source": [
    "### code starts here. "
   ]
  },
  {
   "cell_type": "markdown",
   "id": "religious-bridal",
   "metadata": {},
   "source": [
    "## Question 2 [20 pts]\n",
    "\n",
    "This question is a probability classification problem. Assuming that training a mixture of Gaussians model by maximum likelihood, students will find P(1|0.75) using data `Probability_Classification.csv`. In the dataset, there are two columns, **x** and **class**, where the **class** is the binary class.  "
   ]
  },
  {
   "cell_type": "markdown",
   "id": "optical-liechtenstein",
   "metadata": {},
   "source": [
    "### 2-1\n",
    "Find the prior, expected value, and variance for each class. [12 pts]"
   ]
  },
  {
   "cell_type": "code",
   "execution_count": null,
   "id": "simple-decline",
   "metadata": {},
   "outputs": [],
   "source": [
    "### code starts here"
   ]
  },
  {
   "cell_type": "markdown",
   "id": "practical-affect",
   "metadata": {},
   "source": [
    "### 2-2\n",
    "Find the probability P(1|0.75)? [8 pts]"
   ]
  },
  {
   "cell_type": "code",
   "execution_count": null,
   "id": "sensitive-albert",
   "metadata": {},
   "outputs": [],
   "source": [
    "### code starts here"
   ]
  },
  {
   "cell_type": "markdown",
   "id": "comfortable-fundamental",
   "metadata": {},
   "source": [
    "### Question 3 [20 pts]\n",
    "\n",
    "This question is a linear classification problem. Students are going to build the binary SVM and Logistic Regression to classify the data set, `LR_SVM.csv`. In the dataset, there are four columns, **x1**, **x2**, **y**, and **a**, where **y** is the class and **a** is the Lagrange Multiplier. You can attack the problem by "
   ]
  },
  {
   "cell_type": "markdown",
   "id": "exterior-seller",
   "metadata": {},
   "source": [
    "### 3-1\n",
    "Using the weight vector $\\vec{w}=[-5.653, 1.199, 0.822]$, build a Logisitc Regression Classifier, $\\sigma(\\vec{w}\\cdot \\vec{x})\\ge0.5$, and classify each $\\vec{x}=[x1,x2]^T$. Please do not copy and use the implemented logistic regression from Assignment 2. Determine which class $\\vec{x}=[3,3]^T$ belongs to. [10 pts]"
   ]
  },
  {
   "cell_type": "code",
   "execution_count": null,
   "id": "informational-relations",
   "metadata": {},
   "outputs": [],
   "source": [
    "### code starts here"
   ]
  },
  {
   "attachments": {},
   "cell_type": "markdown",
   "id": "marine-wisdom",
   "metadata": {},
   "source": [
    "### 3-2\n",
    "\n",
    "You are going to build a SVM classifier  by following:\n",
    "a) Find the equation of the SVM hyperplane h(x) and classify each $\\vec{x}$, b) calculate the distance of each point from the hyperplane and print the support vectors, and c) classify the point $\\vec{x}=[3,3]^T$ using h(x) from a). [10 pts]"
   ]
  },
  {
   "cell_type": "code",
   "execution_count": null,
   "id": "naked-proof",
   "metadata": {},
   "outputs": [],
   "source": [
    "### code starts here"
   ]
  }
 ],
 "metadata": {
  "kernelspec": {
   "display_name": "Python 3",
   "language": "python",
   "name": "python3"
  },
  "language_info": {
   "codemirror_mode": {
    "name": "ipython",
    "version": 3
   },
   "file_extension": ".py",
   "mimetype": "text/x-python",
   "name": "python",
   "nbconvert_exporter": "python",
   "pygments_lexer": "ipython3",
   "version": "3.8.3"
  }
 },
 "nbformat": 4,
 "nbformat_minor": 5
}
