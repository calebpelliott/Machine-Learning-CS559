{
 "cells": [
  {
   "cell_type": "markdown",
   "id": "dated-minimum",
   "metadata": {},
   "source": [
    "**<center>CS559 Fall 2021 Midterm</center>**\n",
    "**<center>Due: in 90 minutes <center>**\n",
    "\n",
    "The second part of the midterm contains the computations to solve machine learning problems. It is an open-notes exam and students can only use lecture notes and demonstration files provided from the class. \n",
    "Students are not allowed to use any other modules than $\\color{red}{\\textbf{Numpy, Pandas, and Matplot}}$. \n",
    "\n",
    "Although there are no plotting questions, students are welcome to display plots to confirm their answers. \n",
    "\n",
    "Students must submit the exam **90 minutes from the start**. \n",
    "\n",
    "Good luck!"
   ]
  },
  {
   "cell_type": "code",
   "execution_count": 17,
   "id": "sunrise-bosnia",
   "metadata": {},
   "outputs": [],
   "source": [
    "import numpy as np\n",
    "import pandas as pd\n",
    "import matplotlib.pyplot as plt"
   ]
  },
  {
   "cell_type": "markdown",
   "id": "hydraulic-match",
   "metadata": {},
   "source": [
    "## Question 1 [20 pts]\n",
    "\n",
    "This question is a gradient descent problem and students are required to find a weight vector of the actual quadratic function of the provided data, `gradient_question.csv`. The dataset has two columns, x and y, where y is the true target variable. "
   ]
  },
  {
   "cell_type": "markdown",
   "id": "separated-shoot",
   "metadata": {},
   "source": [
    "### 1-1.\n",
    "Write a short function called `my_gradient()` that optimizes the weight vector using the squared error function and returns the weight vector when the acceptance of error is below 0.05 and the learning rate $\\eta$ is 0.001. [12 pts] "
   ]
  },
  {
   "cell_type": "code",
   "execution_count": 9,
   "id": "stuck-transformation",
   "metadata": {},
   "outputs": [],
   "source": [
    "def my_gradient(X, y):\n",
    "    n = .001\n",
    "    e = 1\n",
    "    num_samps = len(X)\n",
    "    m = np.random.random(1)[0]\n",
    "    b = np.random.random(1)[0]\n",
    "    w = None\n",
    "    while(e > .05):\n",
    "        temp = m*X + b\n",
    "        diff = y-temp\n",
    "        \n",
    "        m_deriv = X.dot(diff)\n",
    "        m_deriv = m_deriv.sum() / num_samps\n",
    "        m = m - (n * (-2 * m_deriv))\n",
    "        \n",
    "        b_deriv = diff.sum() / num_samps\n",
    "        b = b - (n *(-2 * b_deriv))\n",
    "        updated = m*X + b\n",
    "        mse = ((y - updated)**2).mean(axis=0)\n",
    "        e =mse\n",
    "        if mse < .05:\n",
    "            w = [b, m]\n",
    "    return w"
   ]
  },
  {
   "cell_type": "markdown",
   "id": "portuguese-jamaica",
   "metadata": {},
   "source": [
    "### 1-2.\n",
    "\n",
    "Using the optimized weight vector, find the local maximum. [8 pts]"
   ]
  },
  {
   "cell_type": "code",
   "execution_count": 12,
   "id": "disciplinary-amsterdam",
   "metadata": {},
   "outputs": [
    {
     "name": "stdout",
     "output_type": "stream",
     "text": [
      "None\n"
     ]
    }
   ],
   "source": [
    "### code starts here. \n",
    "df = pd.read_csv('./gradient_question.csv')\n",
    "\n",
    "df.plot(x='x', y='y', style='o')\n",
    "\n",
    "w= my_gradient(df['x'], df['y'])\n"
   ]
  },
  {
   "cell_type": "markdown",
   "id": "religious-bridal",
   "metadata": {},
   "source": [
    "## Question 2 [20 pts]\n",
    "\n",
    "This question is a probability classification problem. Assuming that training a mixture of Gaussians model by maximum likelihood, students will find P(1|0.75) using data `Probability_Classification.csv`. In the dataset, there are two columns, **x** and **class**, where the **class** is the binary class.  "
   ]
  },
  {
   "cell_type": "markdown",
   "id": "optical-liechtenstein",
   "metadata": {},
   "source": [
    "### 2-1\n",
    "Find the prior, expected value, and variance for each class. [12 pts]"
   ]
  },
  {
   "cell_type": "code",
   "execution_count": 15,
   "id": "simple-decline",
   "metadata": {},
   "outputs": [
    {
     "data": {
      "text/plain": [
       "array([[<AxesSubplot:title={'center':'x'}>,\n",
       "        <AxesSubplot:title={'center':'class'}>]], dtype=object)"
      ]
     },
     "execution_count": 15,
     "metadata": {},
     "output_type": "execute_result"
    },
    {
     "data": {
      "image/png": "[encoded data removed]",
      "text/plain": [
       "<Figure size 432x288 with 2 Axes>"
      ]
     },
     "metadata": {
      "needs_background": "light"
     },
     "output_type": "display_data"
    }
   ],
   "source": [
    "### code starts here\n",
    "df = pd.read_csv('./Probability_Classification.csv')\n",
    "df_0 = df[df['class'] == 0]\n",
    "df_1 = df[df['class'] == 1]\n",
    "var_0 = df_0.var()['x']\n",
    "var_1 = df_1.var()['x']\n",
    "\n",
    "#Assuming gaussian distribution\n",
    "E_x_0 = df_0.mean()['x']\n",
    "E_x_1 = df_1.mean()['x']\n"
   ]
  },
  {
   "cell_type": "markdown",
   "id": "practical-affect",
   "metadata": {},
   "source": [
    "### 2-2\n",
    "Find the probability P(1|0.75)? [8 pts]"
   ]
  },
  {
   "cell_type": "code",
   "execution_count": null,
   "id": "sensitive-albert",
   "metadata": {},
   "outputs": [],
   "source": [
    "### code starts here\n",
    "= P(.75|1)P(1)/P(.75)\n",
    "=CDF_class1(.75)* (num(class1)/total)"
   ]
  },
  {
   "cell_type": "markdown",
   "id": "comfortable-fundamental",
   "metadata": {},
   "source": [
    "### Question 3 [20 pts]\n",
    "\n",
    "This question is a linear classification problem. Students are going to build the binary SVM and Logistic Regression to classify the data set, `LR_SVM.csv`. In the dataset, there are four columns, **x1**, **x2**, **y**, and **a**, where **y** is the class and **a** is the Lagrange Multiplier. You can attack the problem by "
   ]
  },
  {
   "cell_type": "markdown",
   "id": "exterior-seller",
   "metadata": {},
   "source": [
    "### 3-1\n",
    "Using the weight vector $\\vec{w}=[-5.653, 1.199, 0.822]$, build a Logisitc Regression Classifier, $\\sigma(\\vec{w}\\cdot \\vec{x})\\ge0.5$, and classify each $\\vec{x}=[x1,x2]^T$. Please do not copy and use the implemented logistic regression from Assignment 2. Determine which class $\\vec{x}=[3,3]^T$ belongs to. [10 pts]"
   ]
  },
  {
   "cell_type": "code",
   "execution_count": 19,
   "id": "informational-relations",
   "metadata": {},
   "outputs": [
    {
     "name": "stdout",
     "output_type": "stream",
     "text": [
      "    x1   x2\n",
      "0  4.0  2.9\n",
      "1  4.0  4.0\n",
      "2  1.0  2.5\n",
      "3  2.5  1.0\n",
      "4  4.9  4.5\n",
      "5  1.9  1.9\n",
      "6  3.5  4.0\n",
      "7  0.5  1.5\n",
      "8  2.0  2.1\n",
      "9  4.5  2.5\n"
     ]
    },
    {
     "data": {
      "text/plain": [
       "-1"
      ]
     },
     "execution_count": 19,
     "metadata": {},
     "output_type": "execute_result"
    }
   ],
   "source": [
    "### code starts here\n",
    "df = pd.read_csv('./LR_SVM.csv')\n",
    "X = pd.DataFrame()\n",
    "X['x1'] = df['x1'] \n",
    "X['x2'] = df['x2'] \n",
    "print(X)\n",
    "X= X.to_numpy()\n",
    "w=np.array([[1.199],[0.822]])\n",
    "b= -5.653\n",
    "pred = (X.dot(w) + b)\n",
    "pred = [-1 if x <= .5 else 1 for x in pred]\n",
    "\n",
    "x_33 = 1.199*3 + .822*3 - 5.653\n",
    "x_33 = -1 if x_33 <= .5 else 1\n",
    "x_33"
   ]
  },
  {
   "cell_type": "markdown",
   "id": "marine-wisdom",
   "metadata": {},
   "source": [
    "### 3-2\n",
    "\n",
    "You are going to build a SVM classifier  by following:\n",
    "a) Find the equation of the SVM hyperplane h(x) and classify each $\\vec{x}$, b) calculate the distance of each point from the hyperplane and print the support vectors, and c) classify the point $\\vec{x}=[3,3]^T$ using h(x) from a). [10 pts]"
   ]
  },
  {
   "cell_type": "code",
   "execution_count": null,
   "id": "naked-proof",
   "metadata": {},
   "outputs": [],
   "source": [
    "### code starts here\n",
    "\n",
    "Ran out of time but here I would apply a kernel function in order seperate the data"
   ]
  }
 ],
 "metadata": {
  "kernelspec": {
   "display_name": "Python 3",
   "language": "python",
   "name": "python3"
  },
  "language_info": {
   "codemirror_mode": {
    "name": "ipython",
    "version": 3
   },
   "file_extension": ".py",
   "mimetype": "text/x-python",
   "name": "python",
   "nbconvert_exporter": "python",
   "pygments_lexer": "ipython3",
   "version": "3.8.8"
  }
 },
 "nbformat": 4,
 "nbformat_minor": 5
}
